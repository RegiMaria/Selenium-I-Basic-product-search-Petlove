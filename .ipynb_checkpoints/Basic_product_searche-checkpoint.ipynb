{
 "cells": [
  {
   "cell_type": "code",
   "execution_count": 21,
   "id": "3eb2c73d-7285-4161-9439-e125e5730191",
   "metadata": {
    "tags": []
   },
   "outputs": [],
   "source": [
    "from selenium import webdriver\n",
    "from selenium.webdriver.common.by import By\n",
    "from selenium.webdriver.support.ui import WebDriverWait\n",
    "from selenium.webdriver.support import expected_conditions as EC\n",
    "import time\n",
    "from selenium.webdriver.chrome.options import Options"
   ]
  },
  {
   "cell_type": "code",
   "execution_count": null,
   "id": "bde464fe-e0f9-49f6-9af9-5406fc47f3cb",
   "metadata": {
    "tags": []
   },
   "outputs": [],
   "source": [
    "#Initialize the driver\n",
    "driver = webdriver.Chrome()\n",
    "driver.get(\"https://www.petlove.com.br/\")\n",
    "time.sleep(5)\n",
    "\n",
    "#Locate the 'search box' by the class attribute:\n",
    "search_box = driver.find_element(By.CLASS_NAME, \"search__input-petlove\")\n",
    "\n",
    "#Wait until the 'search box' is interactable:\n",
    "wait = WebDriverWait(driver, 20)\n",
    "search_box = wait.until(EC.element_to_be_clickable((By.CLASS_NAME, \"search__input-petlove\")))\n",
    "\n",
    "#Type something into the 'search box':\n",
    "search_box.send_keys(\"Ração filhote super premium\")\n",
    "\n",
    "#Locate the search icon by the class attribute\n",
    "search_icon = driver.find_element(By.CLASS_NAME, \"search__icon-petlove\")\n",
    "\n",
    "#Click on the search icon\n",
    "search_icon.click()\n",
    "\n",
    "# Wait until the search results are present:\n",
    "wait = WebDriverWait(driver, 10)\n",
    "\n",
    "#Extract the product names using the new class\n",
    "produto_elements = driver.find_elements(By.CLASS_NAME, \"product-name.card-list-name\")\n",
    "nomes_produtos = [produto.text.strip() for produto in produto_elements]\n",
    "\n",
    "# number of products:\n",
    "quantidade_produtos = len(nomes_produtos)\n",
    "print(\"Quantidade total de Produtos:\", quantidade_produtos)\n",
    "\n",
    "# the products with indices\n",
    "print(\"Produtos com Índices:\")\n",
    "for indice, nome_produto in enumerate(nomes_produtos):\n",
    "    print(f\"{indice + 1}. {nome_produto}\")\n",
    "\n",
    "# Close:\n",
    "driver.quit()\n"
   ]
  },
  {
   "cell_type": "code",
   "execution_count": 9,
   "id": "d5f8f9f2-b35a-42a1-829a-83558de2ee21",
   "metadata": {
    "tags": []
   },
   "outputs": [],
   "source": [
    "\n",
    "# Export to CSV file:\n",
    "with open('resultados.csv', 'w', newline='', encoding='utf-8') as csvfile:\n",
    "    csvwriter = csv.writer(csvfile)\n",
    "    \n",
    "#Write header:\n",
    "csvwriter.writerow(['Produto'])\n",
    "\n",
    "#Write each product in nwe line:\n",
    "    for produto in nomes_produtos:\n",
    "        csvwriter.writerow([produto])\n"
   ]
  },
  {
   "cell_type": "code",
   "execution_count": 10,
   "id": "61a4665d-2a86-4f45-9dcc-de73403c0110",
   "metadata": {
    "tags": []
   },
   "outputs": [
    {
     "name": "stdout",
     "output_type": "stream",
     "text": [
      "Dados do CSV:\n",
      "['Ração Seca Liva Super Premium para Cães Adultos de Raças Pequenas - 10,1Kg']\n",
      "['Ração Seca Liva Super Premium para Cães Filhotes de Raças Pequenas - 10,1Kg']\n",
      "['Ração Seca Liva Super Premium para Cães Adultos de Raças Grandes e Gigantes - 10,1Kg']\n",
      "['Ração Seca Nutrilus Prime Frango para Cães Adultos de Raças Pequenas - 20Kg']\n",
      "['Ração Seca Nutrilus Prime Frango para Cães Adultos de Raças Médias - 20Kg']\n",
      "['Ração Seca Nutrilus Prime Frango para Cães Adultos de Raças Grandes - 20Kg']\n",
      "['Ração Seca Liva Super Premium para Cães Adultos de Raças Médias - 10,1Kg']\n",
      "['Ração Seca Liva Super Premium para Cães Filhotes de Raças Grandes e Gigantes - 10,1Kg']\n",
      "['Ração Premier Pet Ambientes Internos Cães Filhotes Frango e Salmão - 12Kg']\n",
      "['Ração Premier Pet Formula Cães Filhotes Raças Grandes e Gigantes Frango - 15Kg']\n",
      "['Ração Premier Pet Raças Específicas Shih Tzu Filhote - 2,5Kg']\n",
      "['Ração Premier Pet Cães Filhotes Raças Pequenas Mini Bits - 2,5Kg']\n",
      "['Ração Premier Pet Formula Frango para Cães Filhotes de Raças Médias - 20Kg']\n",
      "['Ração Fórmula Natural Life Super Premium para Cães Filhotes Raças Minis e Pequenas - 2,5Kg']\n",
      "['Ração Royal Canin Mini Indoor Junior Cães Filhotes - 2,5Kg']\n",
      "['Ração Royal Canin Mini Indoor para Cães Filhotes - 7,5Kg']\n",
      "['Ração Royal Canin Mini Indoor para Cães Filhotes - 1Kg']\n",
      "['Ração Royal Canin Kitten para Gatos Filhotes com até 12 meses de Idade - 1,5Kg']\n",
      "['Ração Royal Canin Mini Junior para Cães Filhotes de Raças Pequenas de 2 a 10 Meses de Idade - 2,5Kg']\n",
      "['Ração Royal Canin Mini Junior para Cães de Raças Pequenas Filhotes de 2 a 10 Meses de Idade - 7,5Kg']\n",
      "['Ração Royal Canin Mini Junior para Cães Filhotes de Raças Pequenas de 2 a 10 Meses de Idade - 1Kg']\n",
      "['Ração Royal Canin Maxi Puppy para Cães de Raças Grandes Filhotes de 2 a 15 Meses de Idade - 15Kg']\n",
      "['Ração Royal Canin Medium Puppy para Cães Filhotes de Raças Médias de 2 a 12 Meses de Idade - 2,5Kg']\n",
      "['Ração Royal Canin Medium Puppy para Cães Filhotes de Raças Médias de 2 a 12 Meses de Idade - 15Kg']\n",
      "['Ração Premier Pet Ambientes Internos Gatos Filhotes Frango - 7,5Kg']\n",
      "['Ração Royal Canin Sachê Feline Kitten Instinctive para Gatos Filhotes com ate 12 meses - 85 g']\n",
      "['Kit Ração Royal Canin Sachê Feline Kitten Instinctive para Gatos Filhotes com ate 12 meses - 12 Unidades']\n",
      "['Ração Premier Raças Específicas Yorkshire Filhotes - 2,5Kg']\n",
      "['Ração Premier Seleção Natural para Cães Filhotes Até 12 Meses - 2,5Kg']\n",
      "['Ração Premier Pet Ambientes Internos Gatos Filhotes Pelos Longos Salmão - 7,5Kg']\n",
      "['Ração Premier Raças Específicas Spitz Alemão Filhote - 2,5Kg']\n",
      "['Ração Fórmula Natural Life Super Premium para Cães Filhotes Raças Médias e Grandes - 15Kg']\n",
      "['Ração Premier Pet para Cães Filhotes de Raças Específicas Lhasa Apso - 2,5Kg']\n",
      "['Ração Seca PremieR Nattú Mandioca para Cães Filhotes - 2,5Kg']\n",
      "['Ração Special Dog Prime Júnior para Cães Filhotes de Raças Médias - 15Kg']\n",
      "['Ração Premier Pet Raças Específicas Labrador Filhote - 12Kg']\n"
     ]
    }
   ],
   "source": [
    "import csv\n",
    "\n",
    "# CSV file's name:\n",
    "nome_arquivo = 'resultados.csv'\n",
    "\n",
    "# List to CSV data\n",
    "dados_csv = []\n",
    "\n",
    "# Open CSV read the file:\n",
    "with open(nome_arquivo, 'r', newline='', encoding='utf-8') as csvfile:\n",
    "    csvreader = csv.reader(csvfile)\n",
    "    \n",
    "    # Ignore Header\n",
    "    next(csvreader)\n",
    "    \n",
    "    # Read each line and add it to the list of data:\n",
    "    for linha in csvreader:\n",
    "        dados_csv.append(linha)\n",
    "\n",
    "# Show data:\n",
    "print(\"Dados do CSV:\")\n",
    "for dados in dados_csv:\n",
    "    print(dados)\n"
   ]
  },
  {
   "cell_type": "code",
   "execution_count": null,
   "id": "86e56566-aa51-4786-aa3f-2bbb95b6aa05",
   "metadata": {},
   "outputs": [],
   "source": [
    "#Read the CSV, apply filters based on specific words (excluder), and show the filtered data:"
   ]
  },
  {
   "cell_type": "code",
   "execution_count": 11,
   "id": "cf4e0876-6702-48be-8501-397f1713fbfd",
   "metadata": {
    "tags": []
   },
   "outputs": [
    {
     "name": "stdout",
     "output_type": "stream",
     "text": [
      "Dados Filtrados:\n",
      "['Ração Seca Liva Super Premium para Cães Filhotes de Raças Pequenas - 10,1Kg']\n",
      "['Ração Premier Pet Ambientes Internos Cães Filhotes Frango e Salmão - 12Kg']\n",
      "['Ração Premier Pet Raças Específicas Shih Tzu Filhote - 2,5Kg']\n",
      "['Ração Royal Canin Mini Indoor Junior Cães Filhotes - 2,5Kg']\n",
      "['Ração Royal Canin Mini Indoor para Cães Filhotes - 7,5Kg']\n",
      "['Ração Royal Canin Mini Indoor para Cães Filhotes - 1Kg']\n",
      "['Ração Royal Canin Mini Junior para Cães Filhotes de Raças Pequenas de 2 a 10 Meses de Idade - 2,5Kg']\n",
      "['Ração Royal Canin Mini Junior para Cães de Raças Pequenas Filhotes de 2 a 10 Meses de Idade - 7,5Kg']\n",
      "['Ração Royal Canin Mini Junior para Cães Filhotes de Raças Pequenas de 2 a 10 Meses de Idade - 1Kg']\n",
      "['Ração Premier Seleção Natural para Cães Filhotes Até 12 Meses - 2,5Kg']\n",
      "['Ração Premier Pet para Cães Filhotes de Raças Específicas Lhasa Apso - 2,5Kg']\n",
      "['Ração Seca PremieR Nattú Mandioca para Cães Filhotes - 2,5Kg']\n"
     ]
    }
   ],
   "source": [
    "import csv\n",
    "\n",
    "# CSV file's name:\n",
    "nome_arquivo = 'resultados.csv'\n",
    "\n",
    "# List to CSV data:\n",
    "dados_csv = []\n",
    "\n",
    "# Words to be excluded\n",
    "exclusor = [\"Cães Adultos\", \"Raças Grandes\", \"Gigantes\", \"Raças Médias\", \"formado\",\n",
    "            \"Mini Bits\", \"Raças Minis\", \" Raças Minis e Pequenas\", \" Gatos\", \"Yorkshire\",\n",
    "            \"Spitz Alemão\", \"Labrador\"]\n",
    "\n",
    "# Open CSV file and read data:\n",
    "with open(nome_arquivo, 'r', newline='', encoding='utf-8') as csvfile:\n",
    "    csvreader = csv.reader(csvfile)\n",
    "    \n",
    "    # ignore header:\n",
    "    header = next(csvreader)\n",
    "\n",
    "    # Read each line and add it to the list of data:\n",
    "    for linha in csvreader:\n",
    "        dados_csv.append(linha)\n",
    "\n",
    "#Apply filters to the data:\n",
    "dados_filtrados = [dados for dados in dados_csv if not any(excluir.lower() in dados[0].lower() for excluir in exclusor)]\n",
    "\n",
    "# Show the filtered data:\n",
    "print(\"Dados Filtrados:\")\n",
    "for dados in dados_filtrados:\n",
    "    print(dados)\n"
   ]
  },
  {
   "cell_type": "code",
   "execution_count": null,
   "id": "43012caa-08e2-4fd0-babb-715bdd45af50",
   "metadata": {},
   "outputs": [],
   "source": [
    "#Create a new CSV:"
   ]
  },
  {
   "cell_type": "code",
   "execution_count": 16,
   "id": "24c9fc80-c982-4653-a6e5-0ef4e3010e84",
   "metadata": {
    "tags": []
   },
   "outputs": [
    {
     "name": "stdout",
     "output_type": "stream",
     "text": [
      "Os dados filtrados foram exportados para 'resultados_filtrados.csv'.\n"
     ]
    }
   ],
   "source": [
    "import csv\n",
    "\n",
    "# Original's name file:\n",
    "nome_arquivo = 'resultados.csv'\n",
    "\n",
    "# List to orginal data:\n",
    "dados_csv = []\n",
    "\n",
    "# Words to be excluded:\n",
    "exclusor = [\"Cães Adultos\", \"Raças Grandes\", \"Gigantes\", \"Raças Médias\", \"formado\",\n",
    "            \"Mini Bits\", \"Raças Minis\", \" Raças Minis e Pequenas\", \" Gatos\", \"Yorkshire\",\n",
    "            \"Spitz Alemão\", \"Labrador\"]\n",
    "\n",
    "# Open original file CSV and read data: \n",
    "with open(nome_arquivo, 'r', newline='', encoding='utf-8') as csvfile:\n",
    "    csvreader = csv.reader(csvfile)\n",
    "    \n",
    "    # Ignore header:\n",
    "    header = next(csvreader)\n",
    "\n",
    "    # Read each line and add it to the list original data: \n",
    "    for linha in csvreader:\n",
    "        dados_csv.append(linha)\n",
    "\n",
    "# Apply filters:\n",
    "dados_filtrados = [dados for dados in dados_csv if not any(excluir.lower() in dados[0].lower() for excluir in exclusor)]\n",
    "\n",
    "# Name's new file CSV:\n",
    "novo_nome_arquivo = 'resultados_filtrados.csv'\n",
    "\n",
    "# Export dadta filtereds to the new csv file:\n",
    "with open(novo_nome_arquivo, 'w', newline='', encoding='utf-8') as novo_csvfile:\n",
    "    csvwriter = csv.writer(novo_csvfile)\n",
    "    \n",
    "    # Ignore Header:\n",
    "    csvwriter.writerow(header)\n",
    "\n",
    "    # Write each new line to data filtered:\n",
    "    for dados in dados_filtrados:\n",
    "        csvwriter.writerow(dados)\n",
    "\n",
    "# Show print mensage:\n",
    "print(f\"Os dados filtrados foram exportados para '{novo_nome_arquivo}'.\")\n"
   ]
  },
  {
   "cell_type": "code",
   "execution_count": null,
   "id": "6ae0af26-f065-40a1-838f-d9087a2de1f6",
   "metadata": {},
   "outputs": [],
   "source": []
  }
 ],
 "metadata": {
  "kernelspec": {
   "display_name": "Python 3 (ipykernel)",
   "language": "python",
   "name": "python3"
  },
  "language_info": {
   "codemirror_mode": {
    "name": "ipython",
    "version": 3
   },
   "file_extension": ".py",
   "mimetype": "text/x-python",
   "name": "python",
   "nbconvert_exporter": "python",
   "pygments_lexer": "ipython3",
   "version": "3.11.5"
  }
 },
 "nbformat": 4,
 "nbformat_minor": 5
}
